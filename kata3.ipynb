{
 "cells": [
  {
   "cell_type": "code",
   "execution_count": 14,
   "metadata": {},
   "outputs": [
    {
     "name": "stdout",
     "output_type": "stream",
     "text": [
      "c es menor que b y a\n"
     ]
    }
   ],
   "source": [
    "a = 55\n",
    "b = 97\n",
    "c = 3\n",
    "if c > a or c > b:\n",
    "     print(\"c es mayor que a y b\")\n",
    "if a > b and a > c:\n",
    "     print(\"a es mayor que b y c\")\n",
    "elif c == b and b == a:\n",
    "    print (\"a,b y c son iguales\")    \n",
    "else:\n",
    "     print (\"c es menor que b y a\")\n",
    "                    "
   ]
  },
  {
   "cell_type": "markdown",
   "metadata": {},
   "source": [
    "## Escribir declaraciones if, else, y elif"
   ]
  },
  {
   "cell_type": "code",
   "execution_count": 23,
   "metadata": {},
   "outputs": [
    {
     "name": "stdout",
     "output_type": "stream",
     "text": [
      "Advertencia\n"
     ]
    }
   ],
   "source": [
    "velocidad = 49\n",
    "if velocidad > 25:\n",
    "    print(\"Advertencia\")"
   ]
  },
  {
   "cell_type": "code",
   "execution_count": 24,
   "metadata": {},
   "outputs": [
    {
     "name": "stdout",
     "output_type": "stream",
     "text": [
      "Estamos a salvo\n"
     ]
    }
   ],
   "source": [
    "velocidad = 19\n",
    "if velocidad > 25:\n",
    "    print(\"Advertencia\")\n",
    "elif velocidad >= 20:\n",
    "    print(\"Tal vez puedas ver un rayo de luz, pide un deseo\")\n",
    "else:\n",
    "    print(\"Estamos a salvo\")"
   ]
  },
  {
   "cell_type": "markdown",
   "metadata": {},
   "source": [
    "## Uso de operadores and y or"
   ]
  },
  {
   "cell_type": "code",
   "execution_count": 70,
   "metadata": {},
   "outputs": [
    {
     "name": "stdout",
     "output_type": "stream",
     "text": [
      "Tal vez puedas ver un rayo de luz, pide un deseo\n"
     ]
    }
   ],
   "source": [
    "velocidad = 22\n",
    "dimension = 22\n",
    "if dimension > 25 or dimension < 1000 and velocidad >= 25:\n",
    "    print(\"Advertencia\")\n",
    "elif velocidad >= 20:\n",
    "    print(\"Tal vez puedas ver un rayo de luz, pide un deseo\")\n",
    "elif dimension <= 25 and velocidad < 25:\n",
    "    print(\"Estamos a salvo\")\n",
    "else:\n",
    "    print(\"Todo normal por aqui\")"
   ]
  }
 ],
 "metadata": {
  "interpreter": {
   "hash": "40b28e30b9aecf02da251d9ec7d4075e2c0d2fc4783aaea7bf2168cc0faf42b4"
  },
  "kernelspec": {
   "display_name": "Python 3.10.2 64-bit",
   "language": "python",
   "name": "python3"
  },
  "language_info": {
   "codemirror_mode": {
    "name": "ipython",
    "version": 3
   },
   "file_extension": ".py",
   "mimetype": "text/x-python",
   "name": "python",
   "nbconvert_exporter": "python",
   "pygments_lexer": "ipython3",
   "version": "3.10.2"
  },
  "orig_nbformat": 4
 },
 "nbformat": 4,
 "nbformat_minor": 2
}
